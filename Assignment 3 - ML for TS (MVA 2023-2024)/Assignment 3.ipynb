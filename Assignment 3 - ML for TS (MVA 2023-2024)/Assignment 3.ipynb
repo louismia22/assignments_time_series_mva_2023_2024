{
 "cells": [
  {
   "cell_type": "markdown",
   "id": "afb72815-74ef-4b27-b413-26c1c4f20652",
   "metadata": {
    "tags": []
   },
   "source": [
    "# Setup"
   ]
  },
  {
   "cell_type": "markdown",
   "id": "77573173-e7b9-46b4-ae78-a0f9b0d87351",
   "metadata": {},
   "source": [
    "**Imports**"
   ]
  },
  {
   "cell_type": "code",
   "execution_count": null,
   "id": "263236fe-6d00-45aa-80f1-e36765758e9a",
   "metadata": {},
   "outputs": [],
   "source": [
    "import datetime as dt\n",
    "from math import log\n",
    "import IPython\n",
    "\n",
    "import matplotlib.pyplot as plt\n",
    "import numpy as np\n",
    "import ruptures as rpt\n",
    "\n",
    "rng = np.random.default_rng()"
   ]
  },
  {
   "attachments": {},
   "cell_type": "markdown",
   "id": "5e159cd7",
   "metadata": {},
   "source": [
    "# Question 1\n",
    "\n",
    "The following cell loads the training data set `X_train` and `y_train`.\n",
    "`X_train` is a list of 100 signals; `y_train` is a list of 100 symbol sequences. \n",
    "\n",
    "The signals have a varying number of symbols with a varying duration. \n",
    "There is a brief silence between each symbol.\n",
    "The sampling frequency is $22.05 $ kHz."
   ]
  },
  {
   "cell_type": "code",
   "execution_count": null,
   "id": "6d14b41a",
   "metadata": {},
   "outputs": [],
   "source": [
    "FS = 22050  # sampling frequency (Hz)\n",
    "\n",
    "X_train = np.load(\"X_train.npy\", allow_pickle=True).tolist()\n",
    "y_train = np.load(\"y_train.npy\", allow_pickle=True).tolist()"
   ]
  },
  {
   "cell_type": "code",
   "execution_count": null,
   "id": "cf1de8b4",
   "metadata": {},
   "outputs": [],
   "source": [
    "signal, symbols = X_train[2], y_train[2]\n",
    "print(\" \".join(symbols))\n",
    "IPython.display.Audio(signal, rate=FS)"
   ]
  },
  {
   "attachments": {},
   "cell_type": "markdown",
   "id": "67e7aa7d-86a0-4230-9587-ff6286db6b01",
   "metadata": {},
   "source": [
    "# Question 2"
   ]
  },
  {
   "cell_type": "code",
   "execution_count": null,
   "id": "05ba380a-a040-423e-99e8-f9b6d4d98a9e",
   "metadata": {},
   "outputs": [],
   "source": [
    "X_test = np.load(\"X_test.npy\", allow_pickle=True).tolist()"
   ]
  },
  {
   "attachments": {},
   "cell_type": "markdown",
   "id": "3da71dd7-46ec-4db4-8cac-284f0fecf044",
   "metadata": {},
   "source": [
    "# Question 3"
   ]
  },
  {
   "cell_type": "code",
   "execution_count": null,
   "id": "67281154",
   "metadata": {},
   "outputs": [],
   "source": []
  },
  {
   "cell_type": "markdown",
   "id": "bb27981b",
   "metadata": {},
   "source": [
    "# Question 4"
   ]
  },
  {
   "cell_type": "code",
   "execution_count": null,
   "id": "3708b7c5-e937-41cd-bc1b-ac2f7f71e192",
   "metadata": {},
   "outputs": [],
   "source": []
  },
  {
   "cell_type": "markdown",
   "id": "db9c9e0f-c32c-48da-86f8-944fbc4a0806",
   "metadata": {},
   "source": [
    "# Question 5"
   ]
  },
  {
   "cell_type": "code",
   "execution_count": null,
   "id": "63bfc74d-7072-40a2-be7d-7c402f9b66c9",
   "metadata": {},
   "outputs": [],
   "source": []
  },
  {
   "cell_type": "markdown",
   "id": "2cbd2c7d-32dd-4843-bed5-8f4e0afeb30c",
   "metadata": {},
   "source": [
    "# Question 6"
   ]
  },
  {
   "cell_type": "code",
   "execution_count": null,
   "id": "d1fba90b-33cf-4e2b-b96b-7683626b6eb0",
   "metadata": {},
   "outputs": [],
   "source": []
  },
  {
   "cell_type": "markdown",
   "id": "2a1a9fb4-e354-4d20-9095-39e158c8d896",
   "metadata": {},
   "source": [
    "# Question 7"
   ]
  },
  {
   "cell_type": "code",
   "execution_count": null,
   "id": "90d92cc5-136d-4757-848d-f7a898e58497",
   "metadata": {},
   "outputs": [],
   "source": []
  }
 ],
 "metadata": {
  "kernelspec": {
   "display_name": "Python 3 (ipykernel)",
   "language": "python",
   "name": "python3"
  },
  "language_info": {
   "codemirror_mode": {
    "name": "ipython",
    "version": 3
   },
   "file_extension": ".py",
   "mimetype": "text/x-python",
   "name": "python",
   "nbconvert_exporter": "python",
   "pygments_lexer": "ipython3",
   "version": "3.9.18"
  },
  "toc-autonumbering": true
 },
 "nbformat": 4,
 "nbformat_minor": 5
}
